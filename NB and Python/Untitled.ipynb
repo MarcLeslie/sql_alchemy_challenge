{
 "cells": [
  {
   "cell_type": "code",
   "execution_count": 1,
   "id": "3d41ea83-6c54-4c50-99ed-a4d4de4a5e17",
   "metadata": {},
   "outputs": [
    {
     "data": {
      "text/plain": [
       "['measurement', 'station']"
      ]
     },
     "execution_count": 1,
     "metadata": {},
     "output_type": "execute_result"
    }
   ],
   "source": [
    "import numpy as np\n",
    "import sqlalchemy\n",
    "\n",
    "from sqlalchemy.ext.automap import automap_base\n",
    "from sqlalchemy.orm import Session\n",
    "from sqlalchemy import create_engine, func\n",
    "from flask import Flask, jsonify\n",
    "\n",
    "#################################################\n",
    "# Database Setup CHANGE WHERE THE DATABASE POINTS TO\n",
    "#################################################\n",
    "\n",
    "# sqlLite = \"../Resources/hawaii.sqlite\"\n",
    "# engine = create_engine(f\"sqlite:///{sqlLite}\")\n",
    "engine = create_engine(\"sqlite:///../Resources/hawaii.sqlite\")\n",
    "\n",
    "\n",
    "# reflect an existing database into a new model\n",
    "Base = automap_base()\n",
    "# # reflect the tables\n",
    "Base.prepare(engine, reflect=True)\n",
    "Base.classes.keys()"
   ]
  },
  {
   "cell_type": "code",
   "execution_count": null,
   "id": "919aa081-e21e-4c22-9675-68f23fc03648",
   "metadata": {},
   "outputs": [],
   "source": []
  }
 ],
 "metadata": {
  "kernelspec": {
   "display_name": "Python 3",
   "language": "python",
   "name": "python3"
  },
  "language_info": {
   "codemirror_mode": {
    "name": "ipython",
    "version": 3
   },
   "file_extension": ".py",
   "mimetype": "text/x-python",
   "name": "python",
   "nbconvert_exporter": "python",
   "pygments_lexer": "ipython3",
   "version": "3.8.8"
  }
 },
 "nbformat": 4,
 "nbformat_minor": 5
}
